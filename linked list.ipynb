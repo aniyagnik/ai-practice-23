{
 "cells": [
  {
   "cell_type": "code",
   "execution_count": 80,
   "id": "bc5694ab",
   "metadata": {},
   "outputs": [],
   "source": [
    "class Node:\n",
    "    def __init__(self,value):\n",
    "        self.value=value\n",
    "        self.next=None\n",
    "\n",
    "class LinkedList:\n",
    "    def __init__(self):\n",
    "        self.head=None\n",
    "    \n",
    "    def add_node_to_front(self,value):\n",
    "        node = Node(value)\n",
    "        if self.head == None:\n",
    "            self.head = node\n",
    "        else:\n",
    "            node.next = self.head\n",
    "            self.head = node\n",
    "    # 1        \n",
    "    def add_node_to_last(self,value):\n",
    "        node = Node(value)\n",
    "        temp = self.head\n",
    "        if self.head == None:\n",
    "            self.head = node\n",
    "        else:\n",
    "            while temp.next!=None:\n",
    "                temp=temp.next\n",
    "        temp.next = node\n",
    "    # 2        \n",
    "    def size_of_list(self):\n",
    "        temp = self.head\n",
    "        size=0\n",
    "        if self.head == None:\n",
    "            return size\n",
    "        else:\n",
    "            size+=1\n",
    "            while temp.next!=None:\n",
    "                temp=temp.next\n",
    "                size+=1\n",
    "        return size\n",
    "    # 3\n",
    "    def add_node_at_position(self,value,key):\n",
    "        if key<1:\n",
    "            print(\"invalid position key\")\n",
    "\n",
    "        temp = self.head\n",
    "        counter = 0\n",
    "\n",
    "        if temp == None:\n",
    "            print(\"linked list is empty.\")\n",
    "        else:\n",
    "            while (counter!=key):\n",
    "                counter+=1\n",
    "                \n",
    "                if counter==key:\n",
    "                    node = Node(value)\n",
    "                    node.next=temp.next\n",
    "                    temp.next=node\n",
    "                    print(\"element added at \" + str(key) +\" position\")\n",
    "                    break;\n",
    "                    \n",
    "                temp=temp.next\n",
    "                \n",
    "                if temp==None:\n",
    "                    print(\"Not enough elements to add element\")\n",
    "                    break;\n",
    "        \n",
    "    def print_nodes(self):\n",
    "        temp = self.head\n",
    "        while temp != None:\n",
    "            print(temp.value, end= \" \")\n",
    "            temp = temp.next"
   ]
  },
  {
   "cell_type": "code",
   "execution_count": 87,
   "id": "ba58e7e9",
   "metadata": {},
   "outputs": [
    {
     "name": "stdout",
     "output_type": "stream",
     "text": [
      "element added at 1 position\n",
      "None\n",
      "6\n",
      "15 23 4 3 5 10 "
     ]
    }
   ],
   "source": [
    "li = LinkedList()\n",
    "li.add_node_to_front(3)\n",
    "li.add_node_to_front(4)\n",
    "li.add_node_to_last(5)\n",
    "li.add_node_to_last(10)\n",
    "li.add_node_to_front(15)\n",
    "print(li.add_node_at_position(23,1))\n",
    "print(li.size_of_list())\n",
    "li.print_nodes()"
   ]
  },
  {
   "cell_type": "code",
   "execution_count": null,
   "id": "0ab11e0a",
   "metadata": {},
   "outputs": [],
   "source": []
  }
 ],
 "metadata": {
  "kernelspec": {
   "display_name": "Python 3 (ipykernel)",
   "language": "python",
   "name": "python3"
  },
  "language_info": {
   "codemirror_mode": {
    "name": "ipython",
    "version": 3
   },
   "file_extension": ".py",
   "mimetype": "text/x-python",
   "name": "python",
   "nbconvert_exporter": "python",
   "pygments_lexer": "ipython3",
   "version": "3.9.13"
  }
 },
 "nbformat": 4,
 "nbformat_minor": 5
}
