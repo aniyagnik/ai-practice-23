{
 "cells": [
  {
   "cell_type": "code",
   "execution_count": 15,
   "id": "cbe3a9b2",
   "metadata": {},
   "outputs": [
    {
     "data": {
      "text/plain": [
       "32"
      ]
     },
     "execution_count": 15,
     "metadata": {},
     "output_type": "execute_result"
    }
   ],
   "source": [
    "#2 raise to the power 5\n",
    "2**5"
   ]
  },
  {
   "cell_type": "code",
   "execution_count": 24,
   "id": "e19930a8",
   "metadata": {},
   "outputs": [
    {
     "name": "stdout",
     "output_type": "stream",
     "text": [
      "hello c:\u0007sd\n",
      "ame\n",
      "hello c:\\asd\\name\n",
      "hello\n",
      "    /hibi\n",
      "\n"
     ]
    }
   ],
   "source": [
    "print(\"hello c:\\asd\\name\")\n",
    "#r for raw\n",
    "print(r\"hello c:\\asd\\name\")\n",
    "print('''\\\n",
    "hello\n",
    "    /hibi\n",
    "''')"
   ]
  },
  {
   "cell_type": "code",
   "execution_count": 28,
   "id": "e23d508d",
   "metadata": {},
   "outputs": [
    {
     "data": {
      "text/plain": [
       "'hahahahahahapi'"
      ]
     },
     "execution_count": 28,
     "metadata": {},
     "output_type": "execute_result"
    }
   ],
   "source": [
    "3*'haha'+'pi'"
   ]
  },
  {
   "cell_type": "code",
   "execution_count": 29,
   "id": "57f79392",
   "metadata": {},
   "outputs": [
    {
     "data": {
      "text/plain": [
       "'python'"
      ]
     },
     "execution_count": 29,
     "metadata": {},
     "output_type": "execute_result"
    }
   ],
   "source": [
    "'pyt' 'hon'"
   ]
  },
  {
   "cell_type": "code",
   "execution_count": 40,
   "id": "ba3babea",
   "metadata": {},
   "outputs": [
    {
     "name": "stdout",
     "output_type": "stream",
     "text": [
      "                  anirudhyagnik                   \n"
     ]
    }
   ],
   "source": [
    "s = \"anirudhyagnik\"\n",
    "print(s.center(50))\n"
   ]
  },
  {
   "cell_type": "code",
   "execution_count": 46,
   "id": "e6333066",
   "metadata": {},
   "outputs": [
    {
     "name": "stdout",
     "output_type": "stream",
     "text": [
      "2\n"
     ]
    }
   ],
   "source": [
    "s = \"anirudhyagnik\"\n",
    "print(s.count(\"i\"))"
   ]
  },
  {
   "cell_type": "code",
   "execution_count": 47,
   "id": "4da64c27",
   "metadata": {},
   "outputs": [
    {
     "data": {
      "text/plain": [
       "b'anirudhyagnik'"
      ]
     },
     "execution_count": 47,
     "metadata": {},
     "output_type": "execute_result"
    }
   ],
   "source": [
    "s.encode(encoding='utf-8', errors='strict')"
   ]
  },
  {
   "cell_type": "code",
   "execution_count": 53,
   "id": "4c06e246",
   "metadata": {},
   "outputs": [
    {
     "data": {
      "text/plain": [
       "[]"
      ]
     },
     "execution_count": 53,
     "metadata": {},
     "output_type": "execute_result"
    }
   ],
   "source": [
    "list(range(-10, -100, 5))"
   ]
  },
  {
   "cell_type": "code",
   "execution_count": null,
   "id": "cc90424f",
   "metadata": {},
   "outputs": [],
   "source": []
  }
 ],
 "metadata": {
  "kernelspec": {
   "display_name": "Python 3 (ipykernel)",
   "language": "python",
   "name": "python3"
  },
  "language_info": {
   "codemirror_mode": {
    "name": "ipython",
    "version": 3
   },
   "file_extension": ".py",
   "mimetype": "text/x-python",
   "name": "python",
   "nbconvert_exporter": "python",
   "pygments_lexer": "ipython3",
   "version": "3.9.13"
  }
 },
 "nbformat": 4,
 "nbformat_minor": 5
}
