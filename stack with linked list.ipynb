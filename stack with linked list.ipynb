{
 "cells": [
  {
   "cell_type": "code",
   "execution_count": 45,
   "id": "6e7922f5",
   "metadata": {},
   "outputs": [],
   "source": [
    "class Node:\n",
    "    def __init__(self,value):\n",
    "        self.value=value\n",
    "        self.next=None\n",
    "\n",
    "class Stack:\n",
    "    def __init__(self):\n",
    "        self.head=None\n",
    "    \n",
    "    def push(self,value):\n",
    "        new_node = Node(value)\n",
    "        new_node.next=self.head\n",
    "        self.head=new_node\n",
    "        \n",
    "    def pop(self):\n",
    "        if self.count()==0:\n",
    "            print(\"stack is empty. Nothing to pop..\")\n",
    "        else:\n",
    "            self.head=self.head.next\n",
    "            \n",
    "    def count(self):    \n",
    "        temp=self.head\n",
    "        counter=0\n",
    "        while temp!=None:\n",
    "            temp=temp.next\n",
    "            counter+=1\n",
    "        return counter\n",
    "    \n",
    "    def print(self):\n",
    "        temp = self.head\n",
    "        if self.count()==0:\n",
    "            print(\"stack is empty. Nothing to print..\")\n",
    "        else:\n",
    "            while temp != None:\n",
    "                print(temp.value, end= \" \")\n",
    "                temp = temp.next"
   ]
  },
  {
   "cell_type": "code",
   "execution_count": 46,
   "id": "991a036d",
   "metadata": {},
   "outputs": [
    {
     "name": "stdout",
     "output_type": "stream",
     "text": [
      "9 4 5 "
     ]
    }
   ],
   "source": [
    "st=Stack()\n",
    "st.push(5)\n",
    "st.push(4)\n",
    "st.push(9)\n",
    "st.print()"
   ]
  },
  {
   "cell_type": "code",
   "execution_count": 53,
   "id": "0377e43d",
   "metadata": {},
   "outputs": [
    {
     "name": "stdout",
     "output_type": "stream",
     "text": [
      "stack is empty. Nothing to pop..\n",
      "stack is empty. Nothing to print..\n"
     ]
    }
   ],
   "source": [
    "st.pop()\n",
    "st.print()"
   ]
  },
  {
   "cell_type": "code",
   "execution_count": 54,
   "id": "d9f2abd7",
   "metadata": {},
   "outputs": [
    {
     "data": {
      "text/plain": [
       "0"
      ]
     },
     "execution_count": 54,
     "metadata": {},
     "output_type": "execute_result"
    }
   ],
   "source": [
    "st.count()"
   ]
  },
  {
   "cell_type": "code",
   "execution_count": null,
   "id": "b227a047",
   "metadata": {},
   "outputs": [],
   "source": []
  }
 ],
 "metadata": {
  "kernelspec": {
   "display_name": "Python 3 (ipykernel)",
   "language": "python",
   "name": "python3"
  },
  "language_info": {
   "codemirror_mode": {
    "name": "ipython",
    "version": 3
   },
   "file_extension": ".py",
   "mimetype": "text/x-python",
   "name": "python",
   "nbconvert_exporter": "python",
   "pygments_lexer": "ipython3",
   "version": "3.9.13"
  }
 },
 "nbformat": 4,
 "nbformat_minor": 5
}
